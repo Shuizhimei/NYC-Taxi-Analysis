{
 "cells": [
  {
   "cell_type": "code",
   "execution_count": 1,
   "metadata": {},
   "outputs": [],
   "source": [
    "import pyarrow.parquet as pq\n",
    "import pandas as pd"
   ]
  },
  {
   "cell_type": "code",
   "execution_count": 10,
   "metadata": {},
   "outputs": [],
   "source": [
    "pickup4_parquet_file = pq.ParquetFile('input/NYC-Taxi/yellow_tripdata_2023-12.parquet')\n",
    "pickup4_data = pickup4_parquet_file.read().to_pandas()"
   ]
  },
  {
   "cell_type": "code",
   "execution_count": 11,
   "metadata": {},
   "outputs": [],
   "source": [
    "pickup4_data.to_csv('input/NYC-Taxi/yellow_tripdata_2023-12.csv')"
   ]
  },
  {
   "cell_type": "code",
   "execution_count": 12,
   "metadata": {},
   "outputs": [],
   "source": [
    "dropoff4_parquet_file = pq.ParquetFile('input/NYC-Taxi/green_tripdata_2023-12.parquet')\n",
    "dropoff4_data = dropoff4_parquet_file.read().to_pandas()"
   ]
  },
  {
   "cell_type": "code",
   "execution_count": 13,
   "metadata": {},
   "outputs": [],
   "source": [
    "dropoff4_data.to_csv('input/NYC-Taxi/green_tripdata_2023-12.csv')"
   ]
  }
 ],
 "metadata": {
  "kernelspec": {
   "display_name": "libcity",
   "language": "python",
   "name": "python3"
  },
  "language_info": {
   "codemirror_mode": {
    "name": "ipython",
    "version": 3
   },
   "file_extension": ".py",
   "mimetype": "text/x-python",
   "name": "python",
   "nbconvert_exporter": "python",
   "pygments_lexer": "ipython3",
   "version": "3.10.12"
  }
 },
 "nbformat": 4,
 "nbformat_minor": 2
}
